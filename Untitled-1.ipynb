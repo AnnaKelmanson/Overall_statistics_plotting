{
 "cells": [
  {
   "cell_type": "code",
   "execution_count": 17,
   "metadata": {},
   "outputs": [
    {
     "name": "stdout",
     "output_type": "stream",
     "text": [
      "Файл '/home/kelmanson/Desktop/DESY/3_static_mask.csv' сохранен.\n"
     ]
    }
   ],
   "source": [
    "import pandas as pd\n",
    "from tkinter import filedialog, Tk\n",
    "\n",
    "def add_window_and_flag_rows(df):\n",
    "    window_values = df.columns[1:]\n",
    "    window_row = ['window'] + [col.split('_')[-2] for col in window_values]\n",
    "    flag_row = ['flag'] + [col.split('_')[-1] for col in window_values]\n",
    "\n",
    "    window_df = pd.DataFrame([window_row], columns=df.columns)\n",
    "    flag_df = pd.DataFrame([flag_row], columns=df.columns)\n",
    "\n",
    "    return pd.concat([window_df, df, flag_df], ignore_index=True)\n",
    "\n",
    "# Создание графического интерфейса\n",
    "root = Tk()\n",
    "root.withdraw()  # Скрываем главное окно\n",
    "\n",
    "# Открытие диалогового окна для выбора файлов\n",
    "file_paths = filedialog.askopenfilenames(filetypes=[(\"CSV files\", \"*.csv\")])\n",
    "\n",
    "if not file_paths:\n",
    "    print(\"Файлы не выбраны. Программа завершена.\")\n",
    "else:\n",
    "    for file_path in file_paths:\n",
    "        # Загрузка таблицы из выбранного файла\n",
    "        df = pd.read_csv(file_path)\n",
    "        df_with_window_flag = add_window_and_flag_rows(df)\n",
    "        \n",
    "        # Открытие диалогового окна для сохранения нового CSV-файла\n",
    "        save_path = filedialog.asksaveasfilename(defaultextension=\".csv\", filetypes=[(\"CSV files\", \"*.csv\")])\n",
    "        \n",
    "        if save_path:\n",
    "            # Сохранение датафрейма в новый CSV-файл\n",
    "            df_with_window_flag.to_csv(save_path, index=False)\n",
    "            print(f\"Файл '{save_path}' сохранен.\")\n",
    "        else:\n",
    "            print(\"Сохранение для файла отменено.\")\n"
   ]
  },
  {
   "cell_type": "code",
   "execution_count": null,
   "metadata": {},
   "outputs": [],
   "source": []
  },
  {
   "cell_type": "code",
   "execution_count": null,
   "metadata": {},
   "outputs": [],
   "source": []
  }
 ],
 "metadata": {
  "kernelspec": {
   "display_name": "myenv",
   "language": "python",
   "name": "python3"
  },
  "language_info": {
   "codemirror_mode": {
    "name": "ipython",
    "version": 3
   },
   "file_extension": ".py",
   "mimetype": "text/x-python",
   "name": "python",
   "nbconvert_exporter": "python",
   "pygments_lexer": "ipython3",
   "version": "3.11.3"
  },
  "orig_nbformat": 4
 },
 "nbformat": 4,
 "nbformat_minor": 2
}
