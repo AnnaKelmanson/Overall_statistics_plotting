{
 "cells": [
  {
   "cell_type": "code",
   "execution_count": 2,
   "metadata": {},
   "outputs": [],
   "source": [
    "# Import libraries\n",
    "import pandas as pd\n",
    "import matplotlib.pyplot as plt\n",
    "import seaborn as sns\n",
    "import numpy as np\n",
    "from tkinter import filedialog, Tk\n",
    "import random \n",
    "import plotly.express as px\n",
    "import os"
   ]
  },
  {
   "cell_type": "code",
   "execution_count": 3,
   "metadata": {},
   "outputs": [],
   "source": [
    "def add_window_and_flag_rows(df):\n",
    "    df.columns = df.columns.str.replace('6_', '6.')\n",
    "    new_cols = []\n",
    "    for col in df.columns:\n",
    "        if len(col) < 41:\n",
    "            col += '_no-flag'\n",
    "        new_cols.append(col)\n",
    "    df.columns = new_cols\n",
    "    window_values = df.columns[1:]\n",
    "    window_row = ['window'] + [col.split('_')[-2] for col in window_values]\n",
    "    flag_row = ['flag'] + [col.split('_')[-1] for col in window_values]\n",
    "    window_df = pd.DataFrame([window_row], columns=df.columns)\n",
    "    flag_df = pd.DataFrame([flag_row], columns=df.columns)\n",
    "    \n",
    "    return pd.concat([window_df, df, flag_df], ignore_index=True)"
   ]
  },
  {
   "cell_type": "code",
   "execution_count": 4,
   "metadata": {},
   "outputs": [],
   "source": [
    "def open_csv_gui():\n",
    "  root = Tk()\n",
    "  root.withdraw()\n",
    "  \n",
    "  file_paths = filedialog.askopenfilenames(filetypes=[(\"CSV files\", \"*.csv\")])\n",
    "  \n",
    "  if not file_paths:\n",
    "    print(\"Файлы не выбраны. Программа завершена.\")\n",
    "    return\n",
    "  \n",
    "  for file_path in file_paths:\n",
    "    df = pd.read_csv(file_path)\n",
    "    df_with_window_flag = add_window_and_flag_rows(df)\n",
    "  return df_with_window_flag"
   ]
  },
  {
   "cell_type": "code",
   "execution_count": 5,
   "metadata": {},
   "outputs": [],
   "source": [
    "def process_dataframe(df_with_window_flag):\n",
    "  df_T = df_with_window_flag.transpose()\n",
    "  df_T.columns = df_T.iloc[0]\n",
    "  df_T = df_T[1:]\n",
    "  new_type = input(\"Введите значение для колонки 'type': \")\n",
    "  df_T['type'] = new_type\n",
    "  df_T['CC*'] = df_T['CC*'].str.replace(r'\\s*\\([^\\)]*\\)', '', regex=True)\n",
    "  df_T['Multiplicity'] = df_T['Multiplicity'].str.replace(r'\\s*\\([^\\)]*\\)', '', regex=True)\n",
    "  df_T['SNR'] = df_T['SNR'].str.replace(r'\\s*\\([^\\)]*\\)', '', regex=True)  \n",
    "  df_T['Rsplit (%)'] = df_T['Rsplit (%)'].str.replace(r'\\s*\\([^\\)]*\\)', '', regex=True)\n",
    "  df_T[['Indexed patterns', 'crystals']] = df_T['Indexed patterns/crystals'].str.split('/', expand=True)  \n",
    "  df_T[['Rfree', 'Rwork']] = df_T['Rfree/Rwork'].str.split('/', expand=True)   \n",
    "  df_T[['Num. patterns', 'hits']] = df_T['Num. patterns/hits'].str.split('/', expand=True)\n",
    "  df_T['Indexed crystals/hits'] = df_T['crystals'].astype(float) / df_T['hits'].astype(float)\n",
    "  return df_T"
   ]
  },
  {
   "cell_type": "code",
   "execution_count": 23,
   "metadata": {},
   "outputs": [],
   "source": [
    "df_1 = open_csv_gui()\n",
    "df_2 = open_csv_gui()\n",
    "df_3 = open_csv_gui()\n",
    "df_4 = open_csv_gui()\n",
    "df_5 = open_csv_gui()\n",
    "df_6 = open_csv_gui()\n",
    "df_7 = open_csv_gui()"
   ]
  },
  {
   "cell_type": "code",
   "execution_count": 24,
   "metadata": {},
   "outputs": [],
   "source": [
    "df_1 = process_dataframe(df_1)\n",
    "df_2 = process_dataframe(df_2)\n",
    "df_3 = process_dataframe(df_3)\n",
    "df_4 = process_dataframe(df_4)\n",
    "df_5 = process_dataframe(df_5)\n",
    "df_6 = process_dataframe(df_6)\n",
    "df_7 = process_dataframe(df_7)"
   ]
  },
  {
   "cell_type": "code",
   "execution_count": 25,
   "metadata": {},
   "outputs": [],
   "source": [
    "df_concat = pd.concat([df_1,df_2,df_3,df_4,df_5,df_6,df_7])"
   ]
  },
  {
   "cell_type": "code",
   "execution_count": 26,
   "metadata": {},
   "outputs": [],
   "source": [
    "# def plot_custom_scatter(df, chosen_window, y):\n",
    "#     df_T_win = df[df['window'] == chosen_window]\n",
    "#     df_T_win[y] = pd.to_numeric(df_T_win[y])\n",
    "\n",
    "#     df_T_win = df_T_win.sort_values(by=y, ascending=True)\n",
    "#     color_map = {'flag more than': 'red',\n",
    "#              'static mask': 'green',\n",
    "#              'dynamic mask w/o non hr': 'blue', \n",
    "#              'reference': 'purple',\n",
    "#              'dynamic mask with non hr 10': 'orange',\n",
    "#              'dynamic mask with non hr 15': 'cyan',\n",
    "#              'dynamic mask with non hr 20': 'pink'}\n",
    "#     # Задаем порядок флагов на оси X\n",
    "#     #desired_flag_order = ['2500', '5000', '7500', '10000', '15000', 'no-flag']\n",
    "#     #fig = px.scatter(df_T_win, x='flag', y=y, color='type', color_discrete_map=color_map)\n",
    "#     fig = px.strip(df_T_win, x='flag', y=y, color='type', color_discrete_map=color_map, orientation='v')\n",
    "\n",
    "#     fig.update_layout(\n",
    "#         title=f\"Window {chosen_window}\",\n",
    "#         #xaxis=dict(\n",
    "#         #    tickvals=list(range(len(desired_flag_order))),\n",
    "#         #    ticktext=desired_flag_order\n",
    "#         #)\n",
    "#     )\n",
    "\n",
    "#     fig.update_traces(\n",
    "#         marker_size=15,\n",
    "#         marker_opacity=0.9\n",
    "#     )\n",
    "#     fig.update_traces(jitter=0.2) #\n",
    "#     fig.update_layout(height = 400, width=700)\n",
    "#     fig.update_layout(showlegend=True)\n",
    "#     fig.update_yaxes(tickformat='.4f') \n",
    "#     fig.show()\n",
    "\n"
   ]
  },
  {
   "cell_type": "code",
   "execution_count": 27,
   "metadata": {},
   "outputs": [],
   "source": [
    "# pd.set_option('display.max_rows', 100) \n",
    "# pd.set_option('display.max_columns', 100) \n",
    "# df_concat"
   ]
  },
  {
   "cell_type": "code",
   "execution_count": 28,
   "metadata": {},
   "outputs": [],
   "source": [
    "def plot_custom_scatter(df, chosen_window, y):\n",
    "\n",
    "  df_T_win = df[df['window'] == chosen_window]\n",
    "  \n",
    "  df_T_win[y] = pd.to_numeric(df_T_win[y])\n",
    "  \n",
    "  desired_order = ['2500', '5000', '7500', '10000', '15000', 'no-flag']\n",
    "\n",
    "  df_T_win = df_T_win.loc[df_T_win['flag'].isin(desired_order)]\n",
    "\n",
    "  df_T_win = df_T_win.sort_index(key=lambda x: x.map(dict(zip(desired_order, range(len(desired_order))))))\n",
    "\n",
    "  color_map = {'flag more than': 'red', \n",
    "              'static mask': 'forestgreen',\n",
    "              'dynamic mask w/o non hr': 'navy', \n",
    "              'reference': 'plum',\n",
    "              'dynamic mask with non hr 10': 'orange',\n",
    "              'dynamic mask with non hr 15': 'royalblue',\n",
    "              'dynamic mask with non hr 20': 'firebrick'}\n",
    "              \n",
    "  fig = px.strip(df_T_win, x='flag', y=y, color='type', \n",
    "                 color_discrete_map=color_map, orientation='v')\n",
    "                 \n",
    "  fig.update_xaxes(categoryorder='array', categoryarray=desired_order)  \n",
    "\n",
    "  fig.update_layout(title=f\"Window {chosen_window}, high-resolution cutoff = 1.5\")\n",
    "\n",
    "  fig.update_traces(marker_size=15, marker_opacity=0.9)\n",
    "\n",
    "  fig.update_traces(jitter=0)\n",
    "\n",
    "  fig.update_layout(height = 450, width=650)\n",
    "\n",
    "  fig.update_layout(showlegend=False)\n",
    "\n",
    "  fig.update_yaxes(tickformat='.4f')\n",
    "\n",
    "  fig.show()\n",
    "  #fig.write_image(\"{}/{}_{}.png\".format('/home/kelmanson/Desktop/pics_for_presentation/', y, chosen_window))"
   ]
  },
  {
   "cell_type": "code",
   "execution_count": 29,
   "metadata": {},
   "outputs": [
    {
     "data": {
      "text/html": [
       "<div>\n",
       "<style scoped>\n",
       "    .dataframe tbody tr th:only-of-type {\n",
       "        vertical-align: middle;\n",
       "    }\n",
       "\n",
       "    .dataframe tbody tr th {\n",
       "        vertical-align: top;\n",
       "    }\n",
       "\n",
       "    .dataframe thead th {\n",
       "        text-align: right;\n",
       "    }\n",
       "</style>\n",
       "<table border=\"1\" class=\"dataframe\">\n",
       "  <thead>\n",
       "    <tr style=\"text-align: right;\">\n",
       "      <th>Unnamed: 0_no-flag</th>\n",
       "      <th>Rsplit (%)</th>\n",
       "    </tr>\n",
       "  </thead>\n",
       "  <tbody>\n",
       "    <tr>\n",
       "      <th>FAKP_F2X_chipD_grid_fly_001_window_5_no-flag</th>\n",
       "      <td>10.83</td>\n",
       "    </tr>\n",
       "    <tr>\n",
       "      <th>FAKP_F2X_chipD_grid_fly_001_window_5_5000</th>\n",
       "      <td>10.89</td>\n",
       "    </tr>\n",
       "    <tr>\n",
       "      <th>FAKP_F2X_chipD_grid_fly_001_window_5_10000</th>\n",
       "      <td>11.1</td>\n",
       "    </tr>\n",
       "    <tr>\n",
       "      <th>FAKP_F2X_chipD_grid_fly_001_window_5_2500</th>\n",
       "      <td>10.81</td>\n",
       "    </tr>\n",
       "    <tr>\n",
       "      <th>FAKP_F2X_chipD_grid_fly_001_window_5_15000</th>\n",
       "      <td>11.33</td>\n",
       "    </tr>\n",
       "    <tr>\n",
       "      <th>FAKP_F2X_chipD_grid_fly_001_window_5_7500</th>\n",
       "      <td>11.09</td>\n",
       "    </tr>\n",
       "    <tr>\n",
       "      <th>FAKP_F2X_chipD_grid_fly_001_window_5_no-flag</th>\n",
       "      <td>10.97</td>\n",
       "    </tr>\n",
       "    <tr>\n",
       "      <th>FAKP_F2X_chipD_grid_fly_001_window_5_no-flag</th>\n",
       "      <td>10.32</td>\n",
       "    </tr>\n",
       "    <tr>\n",
       "      <th>FAKP_F2X_chipD_grid_fly_001_window_5_no-flag</th>\n",
       "      <td>10.53</td>\n",
       "    </tr>\n",
       "    <tr>\n",
       "      <th>FAKP_F2X_chipD_grid_fly_001_window_5_no-flag</th>\n",
       "      <td>10.36</td>\n",
       "    </tr>\n",
       "    <tr>\n",
       "      <th>FAKP_F2X_chipD_grid_fly_001_window_5_no-flag</th>\n",
       "      <td>10.31</td>\n",
       "    </tr>\n",
       "  </tbody>\n",
       "</table>\n",
       "</div>"
      ],
      "text/plain": [
       "Unnamed: 0_no-flag                           Rsplit (%)\n",
       "FAKP_F2X_chipD_grid_fly_001_window_5_no-flag      10.83\n",
       "FAKP_F2X_chipD_grid_fly_001_window_5_5000         10.89\n",
       "FAKP_F2X_chipD_grid_fly_001_window_5_10000         11.1\n",
       "FAKP_F2X_chipD_grid_fly_001_window_5_2500         10.81\n",
       "FAKP_F2X_chipD_grid_fly_001_window_5_15000        11.33\n",
       "FAKP_F2X_chipD_grid_fly_001_window_5_7500         11.09\n",
       "FAKP_F2X_chipD_grid_fly_001_window_5_no-flag      10.97\n",
       "FAKP_F2X_chipD_grid_fly_001_window_5_no-flag      10.32\n",
       "FAKP_F2X_chipD_grid_fly_001_window_5_no-flag      10.53\n",
       "FAKP_F2X_chipD_grid_fly_001_window_5_no-flag      10.36\n",
       "FAKP_F2X_chipD_grid_fly_001_window_5_no-flag      10.31"
      ]
     },
     "execution_count": 29,
     "metadata": {},
     "output_type": "execute_result"
    }
   ],
   "source": [
    "df_concat[df_concat['window'] == '5'][['Rsplit (%)']]"
   ]
  },
  {
   "cell_type": "code",
   "execution_count": 30,
   "metadata": {},
   "outputs": [
    {
     "name": "stderr",
     "output_type": "stream",
     "text": [
      "/tmp/ipykernel_44394/2147824363.py:5: SettingWithCopyWarning:\n",
      "\n",
      "\n",
      "A value is trying to be set on a copy of a slice from a DataFrame.\n",
      "Try using .loc[row_indexer,col_indexer] = value instead\n",
      "\n",
      "See the caveats in the documentation: https://pandas.pydata.org/pandas-docs/stable/user_guide/indexing.html#returning-a-view-versus-a-copy\n",
      "\n"
     ]
    },
    {
     "data": {
      "application/vnd.plotly.v1+json": {
       "config": {
        "plotlyServerURL": "https://plot.ly"
       },
       "data": [
        {
         "alignmentgroup": "True",
         "boxpoints": "all",
         "fillcolor": "rgba(255,255,255,0)",
         "hoveron": "points",
         "hovertemplate": "type=reference<br>flag=%{x}<br>Rsplit (%)=%{y}<extra></extra>",
         "jitter": 0,
         "legendgroup": "reference",
         "line": {
          "color": "rgba(255,255,255,0)"
         },
         "marker": {
          "color": "plum",
          "opacity": 0.9,
          "size": 15
         },
         "name": "reference",
         "offsetgroup": "reference",
         "orientation": "v",
         "pointpos": 0,
         "showlegend": true,
         "type": "box",
         "x": [
          "no-flag"
         ],
         "x0": " ",
         "xaxis": "x",
         "y": [
          10.83
         ],
         "y0": " ",
         "yaxis": "y"
        },
        {
         "alignmentgroup": "True",
         "boxpoints": "all",
         "fillcolor": "rgba(255,255,255,0)",
         "hoveron": "points",
         "hovertemplate": "type=flag more than<br>flag=%{x}<br>Rsplit (%)=%{y}<extra></extra>",
         "jitter": 0,
         "legendgroup": "flag more than",
         "line": {
          "color": "rgba(255,255,255,0)"
         },
         "marker": {
          "color": "red",
          "opacity": 0.9,
          "size": 15
         },
         "name": "flag more than",
         "offsetgroup": "flag more than",
         "orientation": "v",
         "pointpos": 0,
         "showlegend": true,
         "type": "box",
         "x": [
          "5000",
          "10000",
          "2500",
          "15000",
          "7500"
         ],
         "x0": " ",
         "xaxis": "x",
         "y": [
          10.89,
          11.1,
          10.81,
          11.33,
          11.09
         ],
         "y0": " ",
         "yaxis": "y"
        },
        {
         "alignmentgroup": "True",
         "boxpoints": "all",
         "fillcolor": "rgba(255,255,255,0)",
         "hoveron": "points",
         "hovertemplate": "type=static mask<br>flag=%{x}<br>Rsplit (%)=%{y}<extra></extra>",
         "jitter": 0,
         "legendgroup": "static mask",
         "line": {
          "color": "rgba(255,255,255,0)"
         },
         "marker": {
          "color": "forestgreen",
          "opacity": 0.9,
          "size": 15
         },
         "name": "static mask",
         "offsetgroup": "static mask",
         "orientation": "v",
         "pointpos": 0,
         "showlegend": true,
         "type": "box",
         "x": [
          "no-flag"
         ],
         "x0": " ",
         "xaxis": "x",
         "y": [
          10.97
         ],
         "y0": " ",
         "yaxis": "y"
        },
        {
         "alignmentgroup": "True",
         "boxpoints": "all",
         "fillcolor": "rgba(255,255,255,0)",
         "hoveron": "points",
         "hovertemplate": "type=dynamic mask w/o non hr<br>flag=%{x}<br>Rsplit (%)=%{y}<extra></extra>",
         "jitter": 0,
         "legendgroup": "dynamic mask w/o non hr",
         "line": {
          "color": "rgba(255,255,255,0)"
         },
         "marker": {
          "color": "navy",
          "opacity": 0.9,
          "size": 15
         },
         "name": "dynamic mask w/o non hr",
         "offsetgroup": "dynamic mask w/o non hr",
         "orientation": "v",
         "pointpos": 0,
         "showlegend": true,
         "type": "box",
         "x": [
          "no-flag"
         ],
         "x0": " ",
         "xaxis": "x",
         "y": [
          10.32
         ],
         "y0": " ",
         "yaxis": "y"
        },
        {
         "alignmentgroup": "True",
         "boxpoints": "all",
         "fillcolor": "rgba(255,255,255,0)",
         "hoveron": "points",
         "hovertemplate": "type=dynamic mask with non hr 10<br>flag=%{x}<br>Rsplit (%)=%{y}<extra></extra>",
         "jitter": 0,
         "legendgroup": "dynamic mask with non hr 10",
         "line": {
          "color": "rgba(255,255,255,0)"
         },
         "marker": {
          "color": "orange",
          "opacity": 0.9,
          "size": 15
         },
         "name": "dynamic mask with non hr 10",
         "offsetgroup": "dynamic mask with non hr 10",
         "orientation": "v",
         "pointpos": 0,
         "showlegend": true,
         "type": "box",
         "x": [
          "no-flag"
         ],
         "x0": " ",
         "xaxis": "x",
         "y": [
          10.53
         ],
         "y0": " ",
         "yaxis": "y"
        },
        {
         "alignmentgroup": "True",
         "boxpoints": "all",
         "fillcolor": "rgba(255,255,255,0)",
         "hoveron": "points",
         "hovertemplate": "type=dynamic mask with non hr 15<br>flag=%{x}<br>Rsplit (%)=%{y}<extra></extra>",
         "jitter": 0,
         "legendgroup": "dynamic mask with non hr 15",
         "line": {
          "color": "rgba(255,255,255,0)"
         },
         "marker": {
          "color": "royalblue",
          "opacity": 0.9,
          "size": 15
         },
         "name": "dynamic mask with non hr 15",
         "offsetgroup": "dynamic mask with non hr 15",
         "orientation": "v",
         "pointpos": 0,
         "showlegend": true,
         "type": "box",
         "x": [
          "no-flag"
         ],
         "x0": " ",
         "xaxis": "x",
         "y": [
          10.36
         ],
         "y0": " ",
         "yaxis": "y"
        },
        {
         "alignmentgroup": "True",
         "boxpoints": "all",
         "fillcolor": "rgba(255,255,255,0)",
         "hoveron": "points",
         "hovertemplate": "type=dynamic mask with non hr 20<br>flag=%{x}<br>Rsplit (%)=%{y}<extra></extra>",
         "jitter": 0,
         "legendgroup": "dynamic mask with non hr 20",
         "line": {
          "color": "rgba(255,255,255,0)"
         },
         "marker": {
          "color": "firebrick",
          "opacity": 0.9,
          "size": 15
         },
         "name": "dynamic mask with non hr 20",
         "offsetgroup": "dynamic mask with non hr 20",
         "orientation": "v",
         "pointpos": 0,
         "showlegend": true,
         "type": "box",
         "x": [
          "no-flag"
         ],
         "x0": " ",
         "xaxis": "x",
         "y": [
          10.31
         ],
         "y0": " ",
         "yaxis": "y"
        }
       ],
       "layout": {
        "boxmode": "group",
        "height": 450,
        "legend": {
         "title": {
          "text": "type"
         },
         "tracegroupgap": 0
        },
        "margin": {
         "t": 60
        },
        "showlegend": false,
        "template": {
         "data": {
          "bar": [
           {
            "error_x": {
             "color": "#2a3f5f"
            },
            "error_y": {
             "color": "#2a3f5f"
            },
            "marker": {
             "line": {
              "color": "#E5ECF6",
              "width": 0.5
             },
             "pattern": {
              "fillmode": "overlay",
              "size": 10,
              "solidity": 0.2
             }
            },
            "type": "bar"
           }
          ],
          "barpolar": [
           {
            "marker": {
             "line": {
              "color": "#E5ECF6",
              "width": 0.5
             },
             "pattern": {
              "fillmode": "overlay",
              "size": 10,
              "solidity": 0.2
             }
            },
            "type": "barpolar"
           }
          ],
          "carpet": [
           {
            "aaxis": {
             "endlinecolor": "#2a3f5f",
             "gridcolor": "white",
             "linecolor": "white",
             "minorgridcolor": "white",
             "startlinecolor": "#2a3f5f"
            },
            "baxis": {
             "endlinecolor": "#2a3f5f",
             "gridcolor": "white",
             "linecolor": "white",
             "minorgridcolor": "white",
             "startlinecolor": "#2a3f5f"
            },
            "type": "carpet"
           }
          ],
          "choropleth": [
           {
            "colorbar": {
             "outlinewidth": 0,
             "ticks": ""
            },
            "type": "choropleth"
           }
          ],
          "contour": [
           {
            "colorbar": {
             "outlinewidth": 0,
             "ticks": ""
            },
            "colorscale": [
             [
              0,
              "#0d0887"
             ],
             [
              0.1111111111111111,
              "#46039f"
             ],
             [
              0.2222222222222222,
              "#7201a8"
             ],
             [
              0.3333333333333333,
              "#9c179e"
             ],
             [
              0.4444444444444444,
              "#bd3786"
             ],
             [
              0.5555555555555556,
              "#d8576b"
             ],
             [
              0.6666666666666666,
              "#ed7953"
             ],
             [
              0.7777777777777778,
              "#fb9f3a"
             ],
             [
              0.8888888888888888,
              "#fdca26"
             ],
             [
              1,
              "#f0f921"
             ]
            ],
            "type": "contour"
           }
          ],
          "contourcarpet": [
           {
            "colorbar": {
             "outlinewidth": 0,
             "ticks": ""
            },
            "type": "contourcarpet"
           }
          ],
          "heatmap": [
           {
            "colorbar": {
             "outlinewidth": 0,
             "ticks": ""
            },
            "colorscale": [
             [
              0,
              "#0d0887"
             ],
             [
              0.1111111111111111,
              "#46039f"
             ],
             [
              0.2222222222222222,
              "#7201a8"
             ],
             [
              0.3333333333333333,
              "#9c179e"
             ],
             [
              0.4444444444444444,
              "#bd3786"
             ],
             [
              0.5555555555555556,
              "#d8576b"
             ],
             [
              0.6666666666666666,
              "#ed7953"
             ],
             [
              0.7777777777777778,
              "#fb9f3a"
             ],
             [
              0.8888888888888888,
              "#fdca26"
             ],
             [
              1,
              "#f0f921"
             ]
            ],
            "type": "heatmap"
           }
          ],
          "heatmapgl": [
           {
            "colorbar": {
             "outlinewidth": 0,
             "ticks": ""
            },
            "colorscale": [
             [
              0,
              "#0d0887"
             ],
             [
              0.1111111111111111,
              "#46039f"
             ],
             [
              0.2222222222222222,
              "#7201a8"
             ],
             [
              0.3333333333333333,
              "#9c179e"
             ],
             [
              0.4444444444444444,
              "#bd3786"
             ],
             [
              0.5555555555555556,
              "#d8576b"
             ],
             [
              0.6666666666666666,
              "#ed7953"
             ],
             [
              0.7777777777777778,
              "#fb9f3a"
             ],
             [
              0.8888888888888888,
              "#fdca26"
             ],
             [
              1,
              "#f0f921"
             ]
            ],
            "type": "heatmapgl"
           }
          ],
          "histogram": [
           {
            "marker": {
             "pattern": {
              "fillmode": "overlay",
              "size": 10,
              "solidity": 0.2
             }
            },
            "type": "histogram"
           }
          ],
          "histogram2d": [
           {
            "colorbar": {
             "outlinewidth": 0,
             "ticks": ""
            },
            "colorscale": [
             [
              0,
              "#0d0887"
             ],
             [
              0.1111111111111111,
              "#46039f"
             ],
             [
              0.2222222222222222,
              "#7201a8"
             ],
             [
              0.3333333333333333,
              "#9c179e"
             ],
             [
              0.4444444444444444,
              "#bd3786"
             ],
             [
              0.5555555555555556,
              "#d8576b"
             ],
             [
              0.6666666666666666,
              "#ed7953"
             ],
             [
              0.7777777777777778,
              "#fb9f3a"
             ],
             [
              0.8888888888888888,
              "#fdca26"
             ],
             [
              1,
              "#f0f921"
             ]
            ],
            "type": "histogram2d"
           }
          ],
          "histogram2dcontour": [
           {
            "colorbar": {
             "outlinewidth": 0,
             "ticks": ""
            },
            "colorscale": [
             [
              0,
              "#0d0887"
             ],
             [
              0.1111111111111111,
              "#46039f"
             ],
             [
              0.2222222222222222,
              "#7201a8"
             ],
             [
              0.3333333333333333,
              "#9c179e"
             ],
             [
              0.4444444444444444,
              "#bd3786"
             ],
             [
              0.5555555555555556,
              "#d8576b"
             ],
             [
              0.6666666666666666,
              "#ed7953"
             ],
             [
              0.7777777777777778,
              "#fb9f3a"
             ],
             [
              0.8888888888888888,
              "#fdca26"
             ],
             [
              1,
              "#f0f921"
             ]
            ],
            "type": "histogram2dcontour"
           }
          ],
          "mesh3d": [
           {
            "colorbar": {
             "outlinewidth": 0,
             "ticks": ""
            },
            "type": "mesh3d"
           }
          ],
          "parcoords": [
           {
            "line": {
             "colorbar": {
              "outlinewidth": 0,
              "ticks": ""
             }
            },
            "type": "parcoords"
           }
          ],
          "pie": [
           {
            "automargin": true,
            "type": "pie"
           }
          ],
          "scatter": [
           {
            "fillpattern": {
             "fillmode": "overlay",
             "size": 10,
             "solidity": 0.2
            },
            "type": "scatter"
           }
          ],
          "scatter3d": [
           {
            "line": {
             "colorbar": {
              "outlinewidth": 0,
              "ticks": ""
             }
            },
            "marker": {
             "colorbar": {
              "outlinewidth": 0,
              "ticks": ""
             }
            },
            "type": "scatter3d"
           }
          ],
          "scattercarpet": [
           {
            "marker": {
             "colorbar": {
              "outlinewidth": 0,
              "ticks": ""
             }
            },
            "type": "scattercarpet"
           }
          ],
          "scattergeo": [
           {
            "marker": {
             "colorbar": {
              "outlinewidth": 0,
              "ticks": ""
             }
            },
            "type": "scattergeo"
           }
          ],
          "scattergl": [
           {
            "marker": {
             "colorbar": {
              "outlinewidth": 0,
              "ticks": ""
             }
            },
            "type": "scattergl"
           }
          ],
          "scattermapbox": [
           {
            "marker": {
             "colorbar": {
              "outlinewidth": 0,
              "ticks": ""
             }
            },
            "type": "scattermapbox"
           }
          ],
          "scatterpolar": [
           {
            "marker": {
             "colorbar": {
              "outlinewidth": 0,
              "ticks": ""
             }
            },
            "type": "scatterpolar"
           }
          ],
          "scatterpolargl": [
           {
            "marker": {
             "colorbar": {
              "outlinewidth": 0,
              "ticks": ""
             }
            },
            "type": "scatterpolargl"
           }
          ],
          "scatterternary": [
           {
            "marker": {
             "colorbar": {
              "outlinewidth": 0,
              "ticks": ""
             }
            },
            "type": "scatterternary"
           }
          ],
          "surface": [
           {
            "colorbar": {
             "outlinewidth": 0,
             "ticks": ""
            },
            "colorscale": [
             [
              0,
              "#0d0887"
             ],
             [
              0.1111111111111111,
              "#46039f"
             ],
             [
              0.2222222222222222,
              "#7201a8"
             ],
             [
              0.3333333333333333,
              "#9c179e"
             ],
             [
              0.4444444444444444,
              "#bd3786"
             ],
             [
              0.5555555555555556,
              "#d8576b"
             ],
             [
              0.6666666666666666,
              "#ed7953"
             ],
             [
              0.7777777777777778,
              "#fb9f3a"
             ],
             [
              0.8888888888888888,
              "#fdca26"
             ],
             [
              1,
              "#f0f921"
             ]
            ],
            "type": "surface"
           }
          ],
          "table": [
           {
            "cells": {
             "fill": {
              "color": "#EBF0F8"
             },
             "line": {
              "color": "white"
             }
            },
            "header": {
             "fill": {
              "color": "#C8D4E3"
             },
             "line": {
              "color": "white"
             }
            },
            "type": "table"
           }
          ]
         },
         "layout": {
          "annotationdefaults": {
           "arrowcolor": "#2a3f5f",
           "arrowhead": 0,
           "arrowwidth": 1
          },
          "autotypenumbers": "strict",
          "coloraxis": {
           "colorbar": {
            "outlinewidth": 0,
            "ticks": ""
           }
          },
          "colorscale": {
           "diverging": [
            [
             0,
             "#8e0152"
            ],
            [
             0.1,
             "#c51b7d"
            ],
            [
             0.2,
             "#de77ae"
            ],
            [
             0.3,
             "#f1b6da"
            ],
            [
             0.4,
             "#fde0ef"
            ],
            [
             0.5,
             "#f7f7f7"
            ],
            [
             0.6,
             "#e6f5d0"
            ],
            [
             0.7,
             "#b8e186"
            ],
            [
             0.8,
             "#7fbc41"
            ],
            [
             0.9,
             "#4d9221"
            ],
            [
             1,
             "#276419"
            ]
           ],
           "sequential": [
            [
             0,
             "#0d0887"
            ],
            [
             0.1111111111111111,
             "#46039f"
            ],
            [
             0.2222222222222222,
             "#7201a8"
            ],
            [
             0.3333333333333333,
             "#9c179e"
            ],
            [
             0.4444444444444444,
             "#bd3786"
            ],
            [
             0.5555555555555556,
             "#d8576b"
            ],
            [
             0.6666666666666666,
             "#ed7953"
            ],
            [
             0.7777777777777778,
             "#fb9f3a"
            ],
            [
             0.8888888888888888,
             "#fdca26"
            ],
            [
             1,
             "#f0f921"
            ]
           ],
           "sequentialminus": [
            [
             0,
             "#0d0887"
            ],
            [
             0.1111111111111111,
             "#46039f"
            ],
            [
             0.2222222222222222,
             "#7201a8"
            ],
            [
             0.3333333333333333,
             "#9c179e"
            ],
            [
             0.4444444444444444,
             "#bd3786"
            ],
            [
             0.5555555555555556,
             "#d8576b"
            ],
            [
             0.6666666666666666,
             "#ed7953"
            ],
            [
             0.7777777777777778,
             "#fb9f3a"
            ],
            [
             0.8888888888888888,
             "#fdca26"
            ],
            [
             1,
             "#f0f921"
            ]
           ]
          },
          "colorway": [
           "#636efa",
           "#EF553B",
           "#00cc96",
           "#ab63fa",
           "#FFA15A",
           "#19d3f3",
           "#FF6692",
           "#B6E880",
           "#FF97FF",
           "#FECB52"
          ],
          "font": {
           "color": "#2a3f5f"
          },
          "geo": {
           "bgcolor": "white",
           "lakecolor": "white",
           "landcolor": "#E5ECF6",
           "showlakes": true,
           "showland": true,
           "subunitcolor": "white"
          },
          "hoverlabel": {
           "align": "left"
          },
          "hovermode": "closest",
          "mapbox": {
           "style": "light"
          },
          "paper_bgcolor": "white",
          "plot_bgcolor": "#E5ECF6",
          "polar": {
           "angularaxis": {
            "gridcolor": "white",
            "linecolor": "white",
            "ticks": ""
           },
           "bgcolor": "#E5ECF6",
           "radialaxis": {
            "gridcolor": "white",
            "linecolor": "white",
            "ticks": ""
           }
          },
          "scene": {
           "xaxis": {
            "backgroundcolor": "#E5ECF6",
            "gridcolor": "white",
            "gridwidth": 2,
            "linecolor": "white",
            "showbackground": true,
            "ticks": "",
            "zerolinecolor": "white"
           },
           "yaxis": {
            "backgroundcolor": "#E5ECF6",
            "gridcolor": "white",
            "gridwidth": 2,
            "linecolor": "white",
            "showbackground": true,
            "ticks": "",
            "zerolinecolor": "white"
           },
           "zaxis": {
            "backgroundcolor": "#E5ECF6",
            "gridcolor": "white",
            "gridwidth": 2,
            "linecolor": "white",
            "showbackground": true,
            "ticks": "",
            "zerolinecolor": "white"
           }
          },
          "shapedefaults": {
           "line": {
            "color": "#2a3f5f"
           }
          },
          "ternary": {
           "aaxis": {
            "gridcolor": "white",
            "linecolor": "white",
            "ticks": ""
           },
           "baxis": {
            "gridcolor": "white",
            "linecolor": "white",
            "ticks": ""
           },
           "bgcolor": "#E5ECF6",
           "caxis": {
            "gridcolor": "white",
            "linecolor": "white",
            "ticks": ""
           }
          },
          "title": {
           "x": 0.05
          },
          "xaxis": {
           "automargin": true,
           "gridcolor": "white",
           "linecolor": "white",
           "ticks": "",
           "title": {
            "standoff": 15
           },
           "zerolinecolor": "white",
           "zerolinewidth": 2
          },
          "yaxis": {
           "automargin": true,
           "gridcolor": "white",
           "linecolor": "white",
           "ticks": "",
           "title": {
            "standoff": 15
           },
           "zerolinecolor": "white",
           "zerolinewidth": 2
          }
         }
        },
        "title": {
         "text": "Window 5, high-resolution cutoff = 1.5"
        },
        "width": 650,
        "xaxis": {
         "anchor": "y",
         "categoryarray": [
          "2500",
          "5000",
          "7500",
          "10000",
          "15000",
          "no-flag"
         ],
         "categoryorder": "array",
         "domain": [
          0,
          1
         ],
         "title": {
          "text": "flag"
         }
        },
        "yaxis": {
         "anchor": "x",
         "domain": [
          0,
          1
         ],
         "tickformat": ".4f",
         "title": {
          "text": "Rsplit (%)"
         }
        }
       }
      }
     },
     "metadata": {},
     "output_type": "display_data"
    }
   ],
   "source": [
    "number = 5\n",
    "plot_custom_scatter(df_concat, f'{number}', 'Rsplit (%)')\n",
    "#plot_custom_scatter(df_concat, f'{number}', 'Rfree')\n",
    "#plot_custom_scatter(df_concat, f'{number}', 'Rwork')\n",
    "#plot_custom_scatter(df_concat, f'{number}', 'SNR')\n"
   ]
  },
  {
   "cell_type": "code",
   "execution_count": 47,
   "metadata": {},
   "outputs": [],
   "source": [
    "# plot_custom_scatter(df_concat, '1', 'CC*')\n",
    "# plot_custom_scatter(df_concat, '2', 'CC*')\n",
    "# plot_custom_scatter(df_concat, '4', 'CC*')\n",
    "# plot_custom_scatter(df_concat, '5', 'CC*')\n",
    "# plot_custom_scatter(df_concat, '6.1', 'CC*')\n",
    "# plot_custom_scatter(df_concat, '6.2', 'CC*')\n",
    "# plot_custom_scatter(df_concat, '9', 'CC*')"
   ]
  },
  {
   "cell_type": "code",
   "execution_count": 229,
   "metadata": {},
   "outputs": [
    {
     "name": "stdout",
     "output_type": "stream",
     "text": [
      "Collecting kaleido\n",
      "  Using cached kaleido-0.2.1-py2.py3-none-manylinux1_x86_64.whl (79.9 MB)\n",
      "Installing collected packages: kaleido\n",
      "Successfully installed kaleido-0.2.1\n",
      "Note: you may need to restart the kernel to use updated packages.\n"
     ]
    }
   ],
   "source": []
  },
  {
   "cell_type": "code",
   "execution_count": null,
   "metadata": {},
   "outputs": [],
   "source": []
  }
 ],
 "metadata": {
  "kernelspec": {
   "display_name": "myenv",
   "language": "python",
   "name": "python3"
  },
  "language_info": {
   "codemirror_mode": {
    "name": "ipython",
    "version": 3
   },
   "file_extension": ".py",
   "mimetype": "text/x-python",
   "name": "python",
   "nbconvert_exporter": "python",
   "pygments_lexer": "ipython3",
   "version": "3.11.3"
  },
  "orig_nbformat": 4
 },
 "nbformat": 4,
 "nbformat_minor": 2
}
